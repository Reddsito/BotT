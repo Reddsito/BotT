{
 "cells": [
  {
   "cell_type": "code",
   "execution_count": 1,
   "metadata": {},
   "outputs": [
    {
     "name": "stdout",
     "output_type": "stream",
     "text": [
      "WARNING:tensorflow:From c:\\Users\\yulu1\\AppData\\Local\\Programs\\Python\\Python310\\lib\\site-packages\\tensorflow\\python\\compat\\v2_compat.py:107: disable_resource_variables (from tensorflow.python.ops.variable_scope) is deprecated and will be removed in a future version.\n",
      "Instructions for updating:\n",
      "non-resource variables are not supported in the long term\n",
      "curses is not supported on this machine (please install/reinstall curses for an optimal experience)\n",
      "Scipy not supported!\n"
     ]
    }
   ],
   "source": [
    "\n",
    "#importamos las librerias a utilizar\n",
    "\n",
    "import tensorflow \n",
    "import numpy as np\n",
    "import tflearn\n",
    "import nltk\n",
    "import json\n",
    "import random\n",
    "import pickle\n",
    "import threading\n",
    "import telebot\n",
    "from tokenizer import *\n",
    "from nltk.stem.lancaster import LancasterStemmer\n",
    "stemmer=LancasterStemmer()"
   ]
  },
  {
   "cell_type": "code",
   "execution_count": 2,
   "metadata": {},
   "outputs": [
    {
     "name": "stderr",
     "output_type": "stream",
     "text": [
      "[nltk_data] Downloading package punkt to\n",
      "[nltk_data]     C:\\Users\\yulu1\\AppData\\Roaming\\nltk_data...\n",
      "[nltk_data]   Package punkt is already up-to-date!\n"
     ]
    }
   ],
   "source": [
    "\n",
    "nltk.download('punkt')\n",
    "\n",
    "#Abrimos el archivo Json con los datos a utilizar\n",
    "\n",
    "with open(\"Data.json\", encoding='utf-8') as files:\n",
    "    datos=json.load(files)\n"
   ]
  },
  {
   "cell_type": "code",
   "execution_count": 3,
   "metadata": {},
   "outputs": [],
   "source": [
    "#Lo siguiente crea un archivo Pickle guardando nuestras variables utilizadas, y se tratan los datos\n",
    "\n",
    "\n",
    "try:\n",
    "    with open(\"Vars.pickle\",\"rb\") as FilePickle_new:\n",
    "        Words, tags, Train, output = pickle.load(FilePickle_new)  \n",
    "\n",
    "except:\n",
    "    Words=[]\n",
    "    tags=[]\n",
    "    AuxX=[]\n",
    "    AuxY=[]\n",
    "\n",
    "\n",
    "    nltk.download('punkt') #En algunos casos no descargar esto genera un error, por lo tanto es bueno descargarlo \n",
    "                           #si aun no se descarga\n",
    "\n",
    "\n",
    "\n",
    "    for contenido in datos[\"contenido\"]:\n",
    "        for patrones in contenido[\"patrones\"]:\n",
    "                AuxPalabra=nltk.word_tokenize(patrones)\n",
    "                Words.extend(AuxPalabra)\n",
    "                AuxX.append(AuxPalabra)\n",
    "                AuxY.append(contenido[\"tag\"])\n",
    "                if contenido[\"tag\"] not in tags:\n",
    "                    tags.append(contenido[\"tag\"])\n",
    "\n",
    "\n",
    "    Words=[stemmer.stem(w.lower()) for w in Words if w!= \"?\"]\n",
    "\n",
    "    Words=sorted(list(set(Words)))\n",
    "    tags=sorted(tags)\n",
    "\n",
    "    Train=[]\n",
    "    output=[]\n",
    "    Exit_Empty=[0 for _ in range(len(tags))]\n",
    "\n",
    "\n",
    "\n",
    "\n",
    "    for x, document in enumerate(AuxX):\n",
    "            bucket=[]\n",
    "            AuxPalabra=[stemmer.stem(w.lower()) for w in document]\n",
    "            for w in Words:\n",
    "                if w in AuxPalabra:\n",
    "                    bucket.append(1)\n",
    "                else:\n",
    "                    bucket.append(0)\n",
    "            exit=Exit_Empty[:]\n",
    "            exit[tags.index(AuxY[x])]=1\n",
    "            Train.append(bucket)\n",
    "            output.append(exit)\n",
    "            \n",
    "\n",
    "\n",
    "    Train=np.array(Train)\n",
    "    output=np.array(output)\n",
    "    with open(\"Vars.pickle\", \"wb\") as archivoPickle:\n",
    "        pickle.dump((Words, tags,Train, output ), archivoPickle )\n"
   ]
  },
  {
   "cell_type": "code",
   "execution_count": 4,
   "metadata": {},
   "outputs": [
    {
     "name": "stdout",
     "output_type": "stream",
     "text": [
      "WARNING:tensorflow:From c:\\Users\\yulu1\\AppData\\Local\\Programs\\Python\\Python310\\lib\\site-packages\\tflearn\\initializations.py:164: calling TruncatedNormal.__init__ (from tensorflow.python.ops.init_ops) with dtype is deprecated and will be removed in a future version.\n",
      "Instructions for updating:\n",
      "Call initializer instance with the dtype argument instead of passing it to the constructor\n",
      "INFO:tensorflow:Restoring parameters from c:\\Users\\yulu1\\Documents\\Service_Bot\\modelo.tflearn\n"
     ]
    }
   ],
   "source": [
    "red=tflearn.input_data(shape=[None,len(Train[0])])\n",
    "red=tflearn.fully_connected(red, len(output))\n",
    "red=tflearn.fully_connected(red,len(output))\n",
    "red=tflearn.fully_connected(red,len(output[0]), activation=\"softmax\") #la investigue, softmax es el nombre de la funcion matematica que lleva esta red neuronal\n",
    "red=tflearn.regression(red)\n",
    "\n",
    "modelo=tflearn.DNN(red)\n",
    "try:\n",
    "     modelo.load(\"modelo.tflearn\")\n",
    "\n",
    "except:\n",
    "    \n",
    "     modelo.fit(Train, output, n_epoch=1000, batch_size=len(output), show_metric=True)\n",
    "     modelo.save(\"modelo.tflearn\")"
   ]
  },
  {
   "cell_type": "code",
   "execution_count": 5,
   "metadata": {},
   "outputs": [],
   "source": [
    "\n",
    "total=0\n",
    "pedidos=[]\n",
    "menu = {\"/polloasado\": 7.50,\n",
    "        \"/pizza\": 12.50,\n",
    "        \"/soda\": 1.25,\n",
    "        \"/hamburguesa\": 5.50,\n",
    "        \"/jugoNaranja\": 1.25,\n",
    "        \"/papas\": 4.75,\n",
    "        \"/sushi\": 7.25,\n",
    "        \"/teFrio\": 1.25}\n",
    "cuentaActual = '' "
   ]
  },
  {
   "cell_type": "code",
   "execution_count": 6,
   "metadata": {},
   "outputs": [],
   "source": [
    "bot=telebot.TeleBot(BotToken)\n",
    "\n",
    "\n",
    "@bot.message_handler(commands=[\"end\"])\n",
    "def cmd_finish(message):\n",
    "    comando_final=message.text\n",
    "    global menu\n",
    "    global total\n",
    "    global pedidos\n",
    "    if comando_final == \"/end\":\n",
    "        for food in pedidos:\n",
    "            bot.send_message(message.chat.id, f'--- {food[1:]} :  {menu[food]} $')\n",
    "        bot.send_message(message.chat.id, f'Su total es de: {total} $')\n",
    "        total=0\n",
    "        pedidos=[]\n",
    "\n",
    "\n",
    "\n",
    "@bot.message_handler(commands=[\"orden\"])\n",
    "def cmd_orden(message):\n",
    "     bot.send_message(message.chat.id, \"Nuestros productos son los siguientes: \\n\\n/polloasado: 7.50$, \\n/pizza: 12.50$, \\n/soda: 1.25$, \\n/hamburguesa: 5.50$, \\n/jugoNaranja: 1.25$, \\n/papas: 4.75$, \\n/sushi: 7.25$, \\n/teFrio: 1.25$\")\n",
    "     \n",
    "\n",
    "@bot.message_handler(commands=[\"polloasado\", \"pizza\", \"soda\", \"hamburguesa\", \"jugoNaranja\", \"papas\", \"sushi\", \"teFrio\"])\n",
    "def cmd_food(message):\n",
    "\n",
    "     comandos=[\"/polloasado\", \"/pizza\", \"/soda\", \"/hamburguesa\", \"/jugoNaranja\", \"/papas\", \"/sushi\", \"/teFrio\"]\n",
    "     global pedidos\n",
    "     global total\n",
    "     global cuentaActual\n",
    "     comando=message.text\n",
    "     if comando in comandos:\n",
    "        pedidos.append(comando)\n",
    "        total+=menu[comando]\n",
    "\n",
    "        bot.send_message(message.chat.id, f'listo tu orden ha sido añadida, para dejar de ordenar aplica el comando: /end. \\n\\nSu cuenta hasta el momento es de: {total} $\\n\\n\\n Digame que mas puedo añadir a su cuenta: \\n/polloasado: 7.50$, \\n/pizza: 12.50$, \\n/soda: 1.25$, \\n/hamburguesa: 5.50$, \\n/jugoNaranja: 1.25$, \\n/papas: 4.75$, \\n/sushi: 7.25$, \\n/teFrio: 1.25$')\n",
    "\n",
    "        bot.send_message(message.chat.id, f'Menu actual:')\n",
    "        cuentaActual = ''\n",
    "        for food in pedidos:\n",
    "            cuentaActual += f'--- {food[1:]} :  {menu[food]} $ --- eliminar - /{food[1:]}Eli \\n'\n",
    "        \n",
    "        bot.send_message(message.chat.id, f'{ cuentaActual }')\n",
    "\n",
    "@bot.message_handler(commands=[\"polloasadoEli\", \"pizzaEli\", \"sodaEli\", \"hamburguesaEli\", \"jugoNaranjaEli\", \"papasEli\", \"sushiEli\", \"teFrioEli\"])\n",
    "def cmd_foodDelete(message):\n",
    "\n",
    "     global pedidos\n",
    "     global total\n",
    "     global cuentaActual\n",
    "     comando=message.text\n",
    "     comando = comando.split(\"Eli\")[0]\n",
    "     if comando in pedidos:\n",
    "        pedidos.remove(comando)\n",
    "        total -= menu[comando]\n",
    "    \n",
    "        bot.send_message(message.chat.id, f'Tu pedido ha sido eliminado, para dejar de ordenar aplica el comando: /end. \\n\\nSu cuenta hasta el momento es de: {total} $\\n\\n\\n Digame que mas puedo añadir a su cuenta: \\n/polloasado: 7.50$, \\n/pizza: 12.50$, \\n/soda: 1.25$, \\n/hamburguesa: 5.50$, \\n/jugoNaranja: 1.25$, \\n/papas: 4.75$, \\n/sushi: 7.25$, \\n/teFrio: 1.25$')\n",
    "\n",
    "        bot.send_message(message.chat.id, f'Menu actual:')\n",
    "        cuentaActual = ''\n",
    "        for food in pedidos:\n",
    "            cuentaActual += f'--- {food[1:]} :  {menu[food]} $ --- eliminar - /{food[1:]}Eli \\n'\n",
    "        \n",
    "        bot.send_message(message.chat.id, f'{ cuentaActual }')\n",
    "\n",
    "     \n",
    "\n",
    "\n",
    "\n",
    "\n",
    "\n",
    "@bot.message_handler(content_types=[\"text\"])\n",
    "def mainBot(message):\n",
    "        \n",
    "        #funcion del procesamiento del lenguaje natural y respuesta acorde al modelo entrenado\n",
    "\n",
    "        message_new=message \n",
    "        mensaje=message_new.text\n",
    "\n",
    "\n",
    "        bucket=[0 for _ in range(len(Words))]\n",
    "        Output_Processing=nltk.word_tokenize(mensaje)\n",
    "        Output_Processing=[stemmer.stem(palabra.lower()) for palabra in Output_Processing]\n",
    "        for single_word in Output_Processing:\n",
    "            for i, palabra in enumerate(Words):\n",
    "                if palabra == single_word:\n",
    "                    bucket[i]=1\n",
    "        resultados=modelo.predict([np.array(bucket)])\n",
    "        \n",
    "        resultadosIndices=np.argmax(resultados)\n",
    "        tag=tags[resultadosIndices]\n",
    "\n",
    "\n",
    "        for tagAux in datos[\"contenido\"]:\n",
    "            if tagAux[\"tag\"] == tag:\n",
    "                    respuesta=tagAux[\"respuestas\"]\n",
    "                    respuesta_alzar=random.choice(respuesta)\n",
    "        if max(bucket) == 0:\n",
    "            bot.send_message(message.chat.id,'No entiendo lo que dices')\n",
    "            bot.send_message(message.chat.id, \"Para conocer nuestros comandos para ordenar, escribe el comando, /orden \")\n",
    "        else:\n",
    "            bot.send_message(message.chat.id,respuesta_alzar)\n",
    "            bot.send_message(message.chat.id, \"Para conocer nuestros comandos para ordenar, escribe el comando, /orden \")\n",
    "\n",
    "\n"
   ]
  },
  {
   "cell_type": "code",
   "execution_count": 7,
   "metadata": {},
   "outputs": [],
   "source": [
    "#mantener el bot activo\n",
    "def iniciar_bot():\n",
    "    bot.infinity_polling()"
   ]
  },
  {
   "cell_type": "code",
   "execution_count": 8,
   "metadata": {},
   "outputs": [
    {
     "name": "stdout",
     "output_type": "stream",
     "text": [
      "iniciando el bot\n",
      "El bot se ha iniciado\n"
     ]
    }
   ],
   "source": [
    "if __name__ == '__main__':\n",
    "    print('iniciando el bot')\n",
    "    inicio=threading.Thread(name=\"inicio\", target=iniciar_bot)\n",
    "    inicio.start()\n",
    "    print('El bot se ha iniciado')"
   ]
  },
  {
   "cell_type": "code",
   "execution_count": 9,
   "metadata": {},
   "outputs": [
    {
     "name": "stdout",
     "output_type": "stream",
     "text": [
      "/polloasado\n"
     ]
    },
    {
     "name": "stderr",
     "output_type": "stream",
     "text": [
      "2023-01-20 19:04:20,321 (__init__.py:1083 inicio) ERROR - TeleBot: \"Threaded polling exception: A request to the Telegram API was unsuccessful. Error code: 400. Description: Bad Request: message text is empty\"\n",
      "2023-01-20 19:04:20,326 (__init__.py:1085 inicio) ERROR - TeleBot: \"Exception traceback:\n",
      "Traceback (most recent call last):\n",
      "  File \"c:\\Users\\yulu1\\AppData\\Local\\Programs\\Python\\Python310\\lib\\site-packages\\telebot\\__init__.py\", line 1074, in __threaded_polling\n",
      "    self.worker_pool.raise_exceptions()\n",
      "  File \"c:\\Users\\yulu1\\AppData\\Local\\Programs\\Python\\Python310\\lib\\site-packages\\telebot\\util.py\", line 156, in raise_exceptions\n",
      "    raise self.exception_info\n",
      "  File \"c:\\Users\\yulu1\\AppData\\Local\\Programs\\Python\\Python310\\lib\\site-packages\\telebot\\util.py\", line 100, in run\n",
      "    task(*args, **kwargs)\n",
      "  File \"c:\\Users\\yulu1\\AppData\\Local\\Programs\\Python\\Python310\\lib\\site-packages\\telebot\\__init__.py\", line 6395, in _run_middlewares_and_handler\n",
      "    result = handler['function'](message)\n",
      "  File \"C:\\Users\\yulu1\\AppData\\Local\\Temp\\ipykernel_14576\\4257628178.py\", line 64, in cmd_foodDelete\n",
      "    bot.send_message(message.chat.id, f'{ cuentaActual }')\n",
      "  File \"c:\\Users\\yulu1\\AppData\\Local\\Programs\\Python\\Python310\\lib\\site-packages\\telebot\\__init__.py\", line 1549, in send_message\n",
      "    apihelper.send_message(\n",
      "  File \"c:\\Users\\yulu1\\AppData\\Local\\Programs\\Python\\Python310\\lib\\site-packages\\telebot\\apihelper.py\", line 264, in send_message\n",
      "    return _make_request(token, method_url, params=payload, method='post')\n",
      "  File \"c:\\Users\\yulu1\\AppData\\Local\\Programs\\Python\\Python310\\lib\\site-packages\\telebot\\apihelper.py\", line 162, in _make_request\n",
      "    json_result = _check_result(method_name, result)\n",
      "  File \"c:\\Users\\yulu1\\AppData\\Local\\Programs\\Python\\Python310\\lib\\site-packages\\telebot\\apihelper.py\", line 189, in _check_result\n",
      "    raise ApiTelegramException(method_name, result, result_json)\n",
      "telebot.apihelper.ApiTelegramException: A request to the Telegram API was unsuccessful. Error code: 400. Description: Bad Request: message text is empty\n",
      "\"\n"
     ]
    }
   ],
   "source": [
    "a = '/polloasadoEli'\n",
    "print(a.split(\"Eli\")[0])\n"
   ]
  }
 ],
 "metadata": {
  "kernelspec": {
   "display_name": "Python 3",
   "language": "python",
   "name": "python3"
  },
  "language_info": {
   "codemirror_mode": {
    "name": "ipython",
    "version": 3
   },
   "file_extension": ".py",
   "mimetype": "text/x-python",
   "name": "python",
   "nbconvert_exporter": "python",
   "pygments_lexer": "ipython3",
   "version": "3.10.9 (tags/v3.10.9:1dd9be6, Dec  6 2022, 20:01:21) [MSC v.1934 64 bit (AMD64)]"
  },
  "orig_nbformat": 4,
  "vscode": {
   "interpreter": {
    "hash": "1adde16ebeb43aa0525b353666eab71bf1bbb0f572abf93f53ad4194687777f7"
   }
  }
 },
 "nbformat": 4,
 "nbformat_minor": 2
}
